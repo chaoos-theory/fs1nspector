{
 "cells": [
  {
   "cell_type": "code",
   "execution_count": 104,
   "metadata": {
    "collapsed": true
   },
   "outputs": [],
   "source": [
    "from os import walk\n",
    "from os import stat"
   ]
  },
  {
   "cell_type": "code",
   "execution_count": 123,
   "metadata": {
    "collapsed": true
   },
   "outputs": [],
   "source": [
    "def get_files(mypath):\n",
    "    f = []\n",
    "    for (dirpath, dirnames, filenames) in walk(mypath):\n",
    "        #print('Processing:', dirpath)\n",
    "        for file in filenames:\n",
    "            fullpath = dirpath + '/'+ file\n",
    "            try:\n",
    "                fdict = { 'filename': file, 'path': fullpath, 'size': (stat(fullpath)).st_size, 'modified': (stat(fullpath)).st_mtime }\n",
    "                f.append(fdict)\n",
    "            except:\n",
    "                pass\n",
    "    return f"
   ]
  },
  {
   "cell_type": "code",
   "execution_count": 124,
   "metadata": {
    "collapsed": false
   },
   "outputs": [],
   "source": [
    "files =  get_files('/')"
   ]
  },
  {
   "cell_type": "code",
   "execution_count": 125,
   "metadata": {
    "collapsed": false
   },
   "outputs": [],
   "source": [
    "\n",
    "def get_extensions(files):\n",
    "    extensions = []\n",
    "    for file in files:\n",
    "        if '.' in file['filename']:\n",
    "            filename_arr = (file['filename']).split('.')\n",
    "            \n",
    "            extension = (filename_arr[-1:])[0]\n",
    "            if extension not in extensions:\n",
    "                extensions.append(extension)\n",
    "                \n",
    "    return extensions"
   ]
  },
  {
   "cell_type": "code",
   "execution_count": 126,
   "metadata": {
    "collapsed": false
   },
   "outputs": [],
   "source": [
    "extensions = get_extensions(files)"
   ]
  },
  {
   "cell_type": "code",
   "execution_count": null,
   "metadata": {
    "collapsed": false
   },
   "outputs": [],
   "source": []
  },
  {
   "cell_type": "code",
   "execution_count": 127,
   "metadata": {
    "collapsed": true
   },
   "outputs": [],
   "source": [
    "import random\n",
    "\n",
    "def set_colors(extensions):\n",
    "    used = []\n",
    "    matched = {}\n",
    "    for extension in extensions:\n",
    "        r = random.randint(0,255)\n",
    "        g = random.randint(0,255)\n",
    "        b = random.randint(0,255)\n",
    "        used.append([r,g,b])\n",
    "        matched[extension] = [r,g,b]\n",
    "    return matched"
   ]
  },
  {
   "cell_type": "code",
   "execution_count": 128,
   "metadata": {
    "collapsed": false,
    "scrolled": false
   },
   "outputs": [],
   "source": [
    "matched = set_colors(extensions)"
   ]
  },
  {
   "cell_type": "code",
   "execution_count": null,
   "metadata": {
    "collapsed": false
   },
   "outputs": [],
   "source": []
  },
  {
   "cell_type": "code",
   "execution_count": 129,
   "metadata": {
    "collapsed": false
   },
   "outputs": [],
   "source": [
    "from PIL import Image"
   ]
  },
  {
   "cell_type": "code",
   "execution_count": null,
   "metadata": {
    "collapsed": true
   },
   "outputs": [],
   "source": []
  },
  {
   "cell_type": "code",
   "execution_count": 130,
   "metadata": {
    "collapsed": false
   },
   "outputs": [],
   "source": [
    "#i.putpixel((0,0), (50,0,50))\n",
    "\n",
    "columns = 800\n",
    "rows = int(len(files)/columns + 1)\n",
    "\n",
    "i = Image.new('RGB',(columns,rows), (155,155,155))\n",
    "\n"
   ]
  },
  {
   "cell_type": "code",
   "execution_count": 131,
   "metadata": {
    "collapsed": false
   },
   "outputs": [],
   "source": [
    "x = 0 \n",
    "y = 0\n",
    "\n",
    "for file in files:\n",
    "    if '.' in file['filename']:\n",
    "        filename_arr = (file['filename']).split('.')\n",
    "        extension = (filename_arr[-1:])[0]\n",
    "        rgb = (0,0,0)\n",
    "        if extension in matched.keys():\n",
    "            rgb = tuple(matched[extension])\n",
    "            i.putpixel((x,y), rgb)\n",
    "        else:\n",
    "            pass\n",
    "        \n",
    "    else:\n",
    "        pass\n",
    "    \n",
    "    \n",
    "    x += 1\n",
    "    if x > columns -1:\n",
    "        y += 1\n",
    "        x = 0\n"
   ]
  },
  {
   "cell_type": "code",
   "execution_count": 132,
   "metadata": {
    "collapsed": true
   },
   "outputs": [],
   "source": [
    "i.save('test.jpg')"
   ]
  },
  {
   "cell_type": "code",
   "execution_count": 133,
   "metadata": {
    "collapsed": true
   },
   "outputs": [],
   "source": [
    "%matplotlib inline"
   ]
  },
  {
   "cell_type": "code",
   "execution_count": 134,
   "metadata": {
    "collapsed": false
   },
   "outputs": [],
   "source": [
    "pil_im = Image.open('./test.jpg', 'r')\n",
    "pil_im.show()\n"
   ]
  },
  {
   "cell_type": "markdown",
   "metadata": {},
   "source": [
    "![caption](files/test.jpg)"
   ]
  },
  {
   "cell_type": "code",
   "execution_count": 135,
   "metadata": {
    "collapsed": false
   },
   "outputs": [
    {
     "data": {
      "text/plain": [
       "427"
      ]
     },
     "execution_count": 135,
     "metadata": {},
     "output_type": "execute_result"
    }
   ],
   "source": [
    "len(files)%500"
   ]
  },
  {
   "cell_type": "code",
   "execution_count": null,
   "metadata": {
    "collapsed": true
   },
   "outputs": [],
   "source": []
  }
 ],
 "metadata": {
  "kernelspec": {
   "display_name": "Python 3",
   "language": "python",
   "name": "python3"
  },
  "language_info": {
   "codemirror_mode": {
    "name": "ipython",
    "version": 3
   },
   "file_extension": ".py",
   "mimetype": "text/x-python",
   "name": "python",
   "nbconvert_exporter": "python",
   "pygments_lexer": "ipython3",
   "version": "3.5.1"
  }
 },
 "nbformat": 4,
 "nbformat_minor": 0
}
